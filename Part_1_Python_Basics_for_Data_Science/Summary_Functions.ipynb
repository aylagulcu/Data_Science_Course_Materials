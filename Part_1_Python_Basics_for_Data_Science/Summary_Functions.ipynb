{
 "cells": [
  {
   "cell_type": "markdown",
   "metadata": {},
   "source": [
    "### Name Resolution: Name references search at most four scopes: local, then enclosing functions (if any), then global, then built-in."
   ]
  },
  {
   "cell_type": "code",
   "execution_count": null,
   "metadata": {},
   "outputs": [],
   "source": [
    "# Global scope\n",
    "X = 99 # X and func assigned in module: global\n",
    "def func(Y): # Y and Z assigned in function: locals\n",
    "    Z = X + Y # X is a global\n",
    "    return Z"
   ]
  },
  {
   "cell_type": "code",
   "execution_count": null,
   "metadata": {},
   "outputs": [],
   "source": [
    "func(5)"
   ]
  },
  {
   "cell_type": "code",
   "execution_count": null,
   "metadata": {},
   "outputs": [],
   "source": [
    "X"
   ]
  },
  {
   "cell_type": "code",
   "execution_count": null,
   "metadata": {},
   "outputs": [],
   "source": [
    "X = 99\n",
    "def func(Y):\n",
    "    X= 200\n",
    "    Z = X + Y  # these names don’t interfere with the enclosing module’s namespace\n",
    "    return Z"
   ]
  },
  {
   "cell_type": "code",
   "execution_count": null,
   "metadata": {},
   "outputs": [],
   "source": [
    "func(5)"
   ]
  },
  {
   "cell_type": "code",
   "execution_count": null,
   "metadata": {},
   "outputs": [],
   "source": [
    "X"
   ]
  },
  {
   "cell_type": "markdown",
   "metadata": {},
   "source": [
    "### Globals:\n",
    "Program Design: Minimize Global Variables. Try to communicate with passed-in arguments and return values instead"
   ]
  },
  {
   "cell_type": "code",
   "execution_count": null,
   "metadata": {},
   "outputs": [],
   "source": [
    "X = 99\n",
    "print(id(X))\n",
    "def func(Y):\n",
    "    global X\n",
    "    X= 200\n",
    "    Z = X + Y  # these names don’t interfere with the enclosing module’s namespace\n",
    "    return Z"
   ]
  },
  {
   "cell_type": "markdown",
   "metadata": {},
   "source": [
    "### Argument-Passing Basics:\n",
    "• Arguments are passed by automatically assigning objects to local variable names\n",
    "• Assigning to argument names inside a function does not affect the caller\n",
    "• Changing a mutable object argument in a function may impact the caller"
   ]
  },
  {
   "cell_type": "code",
   "execution_count": null,
   "metadata": {},
   "outputs": [],
   "source": [
    "#Example:\n",
    "def f(n, x): # these `n`, `x` have nothing to do with `n` and `x` from main()\n",
    "    n = 2    # put `n` label on `2`\n",
    "    x.append(8) # call `append` method of whatever object `x` is referring to.\n",
    "    print('In f():', n, x)\n",
    "    x = []   # put `x` label on `[]`\n",
    "    print('In f():', n, x)\n",
    "    # x = [] has no effect on the original list that is passed into the function"
   ]
  },
  {
   "cell_type": "code",
   "execution_count": null,
   "metadata": {},
   "outputs": [],
   "source": [
    "L= [2,4,6]\n",
    "n= 5"
   ]
  },
  {
   "cell_type": "code",
   "execution_count": null,
   "metadata": {},
   "outputs": [],
   "source": [
    "f(n,L)"
   ]
  },
  {
   "cell_type": "markdown",
   "metadata": {},
   "source": [
    "### Returning multiple results"
   ]
  },
  {
   "cell_type": "code",
   "execution_count": null,
   "metadata": {},
   "outputs": [],
   "source": [
    "def multiple(x, y):\n",
    "    x = 2\n",
    "    y = [3, 4]\n",
    "    z= 100\n",
    "    return x, y,z # Return multiple new values in a tuple"
   ]
  },
  {
   "cell_type": "code",
   "execution_count": null,
   "metadata": {},
   "outputs": [],
   "source": [
    "A= 10\n",
    "B= 20\n",
    "a, b, c= multiple(A,B)\n",
    "print(a)\n",
    "print(b)\n",
    "print(c)"
   ]
  },
  {
   "cell_type": "markdown",
   "metadata": {},
   "source": [
    "### Keyword arguments (name=value) and defaults:\n",
    "Argument order in a function definition/call: positional arguments --> keyword arguments --> *iterable form --> **dict form"
   ]
  },
  {
   "cell_type": "code",
   "execution_count": null,
   "metadata": {},
   "outputs": [],
   "source": [
    "def f(a, b, c): \n",
    "    print(a, b, c)\n",
    "    \n",
    "# Keyword arguments allow us to match by name\n",
    "f(c=3, b=2, a=1)"
   ]
  },
  {
   "cell_type": "code",
   "execution_count": null,
   "metadata": {},
   "outputs": [],
   "source": [
    "f(c=3, b=2, a=1, d=\"istanbul\") "
   ]
  },
  {
   "cell_type": "code",
   "execution_count": null,
   "metadata": {},
   "outputs": [],
   "source": [
    "def func(name, job, age):\n",
    "    print(\"Hello \"+ name)"
   ]
  },
  {
   "cell_type": "code",
   "execution_count": null,
   "metadata": {},
   "outputs": [],
   "source": [
    "func(name='Bob', age=40, job='dev') # much more meaningful"
   ]
  },
  {
   "cell_type": "markdown",
   "metadata": {},
   "source": [
    "### Arbitrary Arguments:"
   ]
  },
  {
   "cell_type": "code",
   "execution_count": null,
   "metadata": {},
   "outputs": [],
   "source": [
    "def f(*args): # all positional arguments collected into a new tuple\n",
    "    print(args)"
   ]
  },
  {
   "cell_type": "code",
   "execution_count": null,
   "metadata": {},
   "outputs": [],
   "source": [
    "f(1,4, \"ankara\",4, ['a','b'])"
   ]
  },
  {
   "cell_type": "code",
   "execution_count": null,
   "metadata": {},
   "outputs": [],
   "source": [
    "def f2(**args): # works only for keyword aguments, collects them into a new dictionary\n",
    "    print(args)"
   ]
  },
  {
   "cell_type": "code",
   "execution_count": null,
   "metadata": {},
   "outputs": [],
   "source": [
    "f2(a=1, b=2,e= 55)"
   ]
  },
  {
   "cell_type": "code",
   "execution_count": null,
   "metadata": {},
   "outputs": [],
   "source": [
    "def f3(a, *pargs, **kargs): # positional and keyword arguments can be combined\n",
    "    print(a, pargs, kargs)"
   ]
  },
  {
   "cell_type": "code",
   "execution_count": null,
   "metadata": {},
   "outputs": [],
   "source": [
    "f3(10,90, r=3,u=(8,9), ab=[1,3,9],i=1, j=10)"
   ]
  },
  {
   "cell_type": "markdown",
   "metadata": {},
   "source": [
    "### Keyword-Only Arguments: coded as named arguments that may appear after *args in the arguments list. All such arguments must be passed using keyword syntax in the call"
   ]
  },
  {
   "cell_type": "code",
   "execution_count": null,
   "metadata": {},
   "outputs": [],
   "source": [
    "# * character as an argument has a specific meaning:\n",
    "def kwonly(a, *, b, c): # function does not accept a variable-length argument list \n",
    "                        # but still expects keywords\n",
    "    print(a, b, c)"
   ]
  },
  {
   "cell_type": "code",
   "execution_count": null,
   "metadata": {},
   "outputs": [],
   "source": [
    "kwonly('abc', b=11, c=12)"
   ]
  },
  {
   "cell_type": "markdown",
   "metadata": {},
   "source": [
    "### Ordering rules:\n",
    "in a function header, keyword-only arguments must be coded before\n",
    "the **args arbitrary keywords form and after the *args arbitrary positional form, when\n",
    "both are present"
   ]
  },
  {
   "cell_type": "code",
   "execution_count": null,
   "metadata": {},
   "outputs": [],
   "source": [
    "def f(a, *b, c=6, **d): \n",
    "    print(a, b, c, d)"
   ]
  },
  {
   "cell_type": "code",
   "execution_count": null,
   "metadata": {},
   "outputs": [],
   "source": [
    "f(1, 2, 3, x=4, y=5, c=7) # Override default c value"
   ]
  },
  {
   "cell_type": "code",
   "execution_count": null,
   "metadata": {},
   "outputs": [],
   "source": [
    "# is this correct?\n",
    "f(0,c=9, a=55)"
   ]
  },
  {
   "cell_type": "code",
   "execution_count": null,
   "metadata": {},
   "outputs": [],
   "source": []
  }
 ],
 "metadata": {
  "kernelspec": {
   "display_name": "Python 3",
   "language": "python",
   "name": "python3"
  },
  "language_info": {
   "codemirror_mode": {
    "name": "ipython",
    "version": 3
   },
   "file_extension": ".py",
   "mimetype": "text/x-python",
   "name": "python",
   "nbconvert_exporter": "python",
   "pygments_lexer": "ipython3",
   "version": "3.8.3"
  }
 },
 "nbformat": 4,
 "nbformat_minor": 2
}
