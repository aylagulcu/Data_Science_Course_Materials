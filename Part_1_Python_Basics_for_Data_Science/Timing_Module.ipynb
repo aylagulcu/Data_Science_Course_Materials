{
 "cells": [
  {
   "cell_type": "code",
   "execution_count": 1,
   "metadata": {
    "collapsed": true
   },
   "outputs": [],
   "source": [
    "import time \n",
    "# time module gives access to the current time, with precision that varies per platform\n",
    "def timer(func, *args):\n",
    "    start = time.clock()\n",
    "    for i in range(1000): # running 1,000 calls to the passed-in function\n",
    "        func(*args)\n",
    "    return time.clock() - start"
   ]
  },
  {
   "cell_type": "code",
   "execution_count": 2,
   "metadata": {},
   "outputs": [
    {
     "data": {
      "text/plain": [
       "0.0013609999999999456"
      ]
     },
     "execution_count": 2,
     "metadata": {},
     "output_type": "execute_result"
    }
   ],
   "source": [
    "timer(pow, 2, 1000)"
   ]
  },
  {
   "cell_type": "code",
   "execution_count": 3,
   "metadata": {},
   "outputs": [],
   "source": [
    "\"Test the relative speed of iteration tool alternatives.\"\n",
    "import time\n",
    "reps = 100000\n",
    "repslist = list(range(reps))                     # Hoist out, list in both 2.X/3.X\n",
    "\n",
    "def forLoop(*args):\n",
    "    res = []\n",
    "    for x in repslist:\n",
    "        res.append(abs(x))\n",
    "    return res\n",
    "\n",
    "def listComp(*args):\n",
    "    return [abs(x) for x in repslist]\n",
    "\n",
    "def mapCall(*args):\n",
    "    return list(map(abs, repslist))              # Use list() here in 3.X only!\n",
    "  # return map(abs, repslist)\n",
    "\n",
    "def genExpr(*args):\n",
    "    return list(abs(x) for x in repslist)        # list() required to force results\n",
    "\n",
    "def genFunc(*args):\n",
    "    def gen():\n",
    "        for x in repslist:\n",
    "            yield abs(x)\n",
    "    return list(gen())                           # list() required to force results\n"
   ]
  },
  {
   "cell_type": "code",
   "execution_count": 4,
   "metadata": {},
   "outputs": [
    {
     "name": "stdout",
     "output_type": "stream",
     "text": [
      "forLoop   => [11.438455000000001]\n",
      "listComp  => [6.223061999999999]\n",
      "mapCall   => [2.7968420000000016]\n",
      "genExpr   => [8.693266000000001]\n",
      "genFunc   => [8.725810999999997]\n"
     ]
    }
   ],
   "source": [
    "for test in (forLoop, listComp, mapCall, genExpr, genFunc):\n",
    "    time_took= timer(test, 5, 1000)\n",
    "    print ('%-9s => [%s]' % (test.__name__, time_took))"
   ]
  },
  {
   "cell_type": "markdown",
   "metadata": {},
   "source": [
    "### the first thing you should do to optimize Python code is to not optimize Python code! \n",
    "### Write for readability and simplicity first, then optimize  later, if and only if needed."
   ]
  },
  {
   "cell_type": "code",
   "execution_count": 13,
   "metadata": {},
   "outputs": [
    {
     "data": {
      "text/plain": [
       "0.2875161020001542"
      ]
     },
     "execution_count": 13,
     "metadata": {},
     "output_type": "execute_result"
    }
   ],
   "source": [
    "# using timeit module:\n",
    "import timeit\n",
    "min(timeit.repeat(stmt=\"[x ** 2 for x in range(1000)]\", number=1000, repeat=5))"
   ]
  },
  {
   "cell_type": "code",
   "execution_count": 14,
   "metadata": {},
   "outputs": [
    {
     "data": {
      "text/plain": [
       "0.2947182709995104"
      ]
     },
     "execution_count": 14,
     "metadata": {},
     "output_type": "execute_result"
    }
   ],
   "source": [
    "min(timeit.repeat(stmt=\"[x ** 2 for x in range(1000)]\", number=1000, repeat=5))"
   ]
  },
  {
   "cell_type": "markdown",
   "metadata": {},
   "source": [
    "others:\n",
    "* pystone module\n",
    "* http://speed.python.org"
   ]
  },
  {
   "cell_type": "code",
   "execution_count": null,
   "metadata": {
    "collapsed": true
   },
   "outputs": [],
   "source": [
    "import "
   ]
  }
 ],
 "metadata": {
  "kernelspec": {
   "display_name": "Python 3",
   "language": "python",
   "name": "python3"
  },
  "language_info": {
   "codemirror_mode": {
    "name": "ipython",
    "version": 3
   },
   "file_extension": ".py",
   "mimetype": "text/x-python",
   "name": "python",
   "nbconvert_exporter": "python",
   "pygments_lexer": "ipython3",
   "version": "3.8.3"
  }
 },
 "nbformat": 4,
 "nbformat_minor": 2
}
